{
 "cells": [
  {
   "cell_type": "markdown",
   "metadata": {},
   "source": [
    "Aruco Generator\n",
    "========\n",
    "\n",
    "This notebook helps to generate and print an aruco."
   ]
  },
  {
   "cell_type": "code",
   "execution_count": 31,
   "metadata": {},
   "outputs": [],
   "source": [
    "import numpy as np\n",
    "import cv2\n",
    "import cv2.aruco as aruco\n",
    "from PIL import Image"
   ]
  },
  {
   "cell_type": "markdown",
   "metadata": {},
   "source": [
    "set the parameters for the aruco"
   ]
  },
  {
   "cell_type": "code",
   "execution_count": 32,
   "metadata": {
    "collapsed": true
   },
   "outputs": [],
   "source": [
    "dpi = 600\n",
    "aruco_width_cm = 10\n",
    "margin_cm = 2\n",
    "arucodict = aruco.DICT_6X6_250\n",
    "ID_number = 106"
   ]
  },
  {
   "cell_type": "code",
   "execution_count": 35,
   "metadata": {
    "collapsed": true
   },
   "outputs": [],
   "source": [
    "full_width_cm = 2*margin_cm + aruco_width_cm\n",
    "aruco_dict = aruco.Dictionary_get(arucodict)\n",
    "im_size_px = np.rint(aruco_width_cm / 2.54 * dpi).astype(np.int)\n",
    "border_px = np.rint(margin_cm / 2.54 * dpi).astype(np.int)"
   ]
  },
  {
   "cell_type": "code",
   "execution_count": 36,
   "metadata": {
    "collapsed": true
   },
   "outputs": [],
   "source": [
    "def add_border(im, border_px):\n",
    "    height, width = im.shape\n",
    "    \n",
    "    im_with_border = np.ones((height + 2 * border_px, width + 2 * border_px), dtype=np.uint8) * 255\n",
    "    im_with_border[border_px:border_px+height, border_px:border_px+width] = im\n",
    "    \n",
    "    return im_with_border"
   ]
  },
  {
   "cell_type": "code",
   "execution_count": null,
   "metadata": {
    "collapsed": true
   },
   "outputs": [],
   "source": [
    "generate the aruco and save it in a PDF with the prop"
   ]
  },
  {
   "cell_type": "code",
   "execution_count": 34,
   "metadata": {},
   "outputs": [],
   "source": [
    "im_aruco = aruco.drawMarker(aruco_dict, ID_number, im_size_px)\n",
    "im_aruco = add_border(im_aruco, border_px)\n",
    "\n",
    "im_PIL = Image.fromarray(im_aruco)\n",
    "\n",
    "\n",
    "im_PIL.save('aruco_dict{}_id{}_dpi{}_{}x{}cm.pdf'.format(arucodict, ID_number, \n",
    "                                                         dpi, full_width_cm, \n",
    "                                                         full_width_cm),\n",
    "            'PDF', resolution=600.0)"
   ]
  },
  {
   "cell_type": "code",
   "execution_count": null,
   "metadata": {
    "collapsed": true
   },
   "outputs": [],
   "source": []
  },
  {
   "cell_type": "code",
   "execution_count": null,
   "metadata": {
    "collapsed": true
   },
   "outputs": [],
   "source": []
  }
 ],
 "metadata": {
  "kernelspec": {
   "display_name": "Python 3",
   "language": "python",
   "name": "python3"
  },
  "language_info": {
   "codemirror_mode": {
    "name": "ipython",
    "version": 3
   },
   "file_extension": ".py",
   "mimetype": "text/x-python",
   "name": "python",
   "nbconvert_exporter": "python",
   "pygments_lexer": "ipython3",
   "version": "3.6.3"
  }
 },
 "nbformat": 4,
 "nbformat_minor": 2
}
